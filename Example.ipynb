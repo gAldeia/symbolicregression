{
 "cells": [
  {
   "cell_type": "code",
   "execution_count": 6,
   "id": "3bf3ccd4-bd5a-4b9b-896c-fb97393263c9",
   "metadata": {},
   "outputs": [],
   "source": [
    "import torch\n",
    "import numpy as np\n",
    "import sympy as sp\n",
    "import os, sys\n",
    "import symbolicregression\n",
    "import requests\n",
    "from IPython.display import display"
   ]
  },
  {
   "cell_type": "code",
   "execution_count": 7,
   "id": "52a6b685-a1ed-4cb5-975d-f1bd316ec778",
   "metadata": {},
   "outputs": [
    {
     "name": "stdout",
     "output_type": "stream",
     "text": [
      "cuda:0\n",
      "Model successfully loaded!\n"
     ]
    }
   ],
   "source": [
    "model_path = \"model1.pt\" \n",
    "try:\n",
    "    if not os.path.isfile(model_path): \n",
    "        url = \"https://dl.fbaipublicfiles.com/symbolicregression/model1.pt\"\n",
    "        r = requests.get(url, allow_redirects=True)\n",
    "        open(model_path, 'wb').write(r.content)\n",
    "    if not torch.cuda.is_available():\n",
    "        model = torch.load(model_path, map_location=torch.device('cpu'))\n",
    "    else:\n",
    "        model = torch.load(model_path)\n",
    "        model = model.cuda()\n",
    "    print(model.device)\n",
    "    print(\"Model successfully loaded!\")\n",
    "\n",
    "except Exception as e:\n",
    "    print(\"ERROR: model not loaded! path was: {}\".format(model_path))\n",
    "    print(e)    "
   ]
  },
  {
   "cell_type": "code",
   "execution_count": 8,
   "id": "cb5ebd8c-235e-4051-87a4-acbafadf937c",
   "metadata": {},
   "outputs": [],
   "source": [
    "est = symbolicregression.model.SymbolicTransformerRegressor(\n",
    "                        model=model,\n",
    "                        max_input_points=200,\n",
    "                        n_trees_to_refine=100,\n",
    "                        rescale=True\n",
    "                        )"
   ]
  },
  {
   "cell_type": "code",
   "execution_count": 9,
   "id": "f539c7ed-29e3-453a-b226-09dfab999fec",
   "metadata": {},
   "outputs": [],
   "source": [
    "##Example of data\n",
    "\n",
    "x = np.random.randn(100, 2)\n",
    "y = np.cos(2*np.pi*x[:,0])+x[:,1]**2\n"
   ]
  },
  {
   "cell_type": "code",
   "execution_count": 10,
   "id": "c699a062-41e6-4747-87ce-1e75a2496b74",
   "metadata": {},
   "outputs": [
    {
     "data": {
      "text/latex": [
       "$\\displaystyle - \\left(0.016475899303410398 - 2.343463425458232 x_{1}\\right) \\left(0.40354245708098189 x_{1} + 0.0078840048917363839\\right) - 0.9700000000000001 \\cos{\\left(6.051939381987914 x_{0} - 3.048144076295739 \\right)} + 0.00485$"
      ],
      "text/plain": [
       "-(0.016475899303410398 - 2.343463425458232*x_1)*(0.40354245708098189*x_1 + 0.0078840048917363839) - 0.9700000000000001*cos(6.051939381987914*x_0 - 3.048144076295739) + 0.00485"
      ]
     },
     "metadata": {},
     "output_type": "display_data"
    }
   ],
   "source": [
    "est.fit(x,y)\n",
    "replace_ops = {\"add\": \"+\", \"mul\": \"*\", \"sub\": \"-\", \"pow\": \"**\", \"inv\": \"1/\"}\n",
    "model_str = est.retrieve_tree(with_infos=True)[\"relabed_predicted_tree\"].infix()\n",
    "for op,replace_op in replace_ops.items():\n",
    "    model_str = model_str.replace(op,replace_op)\n",
    "display(sp.parse_expr(model_str))"
   ]
  }
 ],
 "metadata": {
  "kernelspec": {
   "display_name": "Python 3",
   "language": "python",
   "name": "python3"
  },
  "language_info": {
   "codemirror_mode": {
    "name": "ipython",
    "version": 3
   },
   "file_extension": ".py",
   "mimetype": "text/x-python",
   "name": "python",
   "nbconvert_exporter": "python",
   "pygments_lexer": "ipython3",
   "version": "3.7.12"
  }
 },
 "nbformat": 4,
 "nbformat_minor": 5
}
